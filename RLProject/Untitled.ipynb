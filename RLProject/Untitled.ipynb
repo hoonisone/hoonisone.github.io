{
 "cells": [
  {
   "cell_type": "code",
   "execution_count": 13,
   "id": "726455ed",
   "metadata": {},
   "outputs": [],
   "source": [
    "import json\n",
    "import numpy as np\n",
    "import pandas as pd\n",
    "from matplotlib import pyplot as plt"
   ]
  },
  {
   "cell_type": "code",
   "execution_count": 9,
   "id": "cc966c77",
   "metadata": {},
   "outputs": [],
   "source": [
    "data = [[[31,650,5],[40,785,5],[42,803,5],[42,805,5],[42,806,5],[44,831,5],[60,1025,5],[60,1027,5],[60,1029,5],[61,1048,5],[61,1058,5],[62,1076,5],[62,1080,5],[63,1110,5],[63,1111,6],[63,1118,5],[64,1134,5],[65,1150,5],[68,1184,5],[114,1866,6],[114,1870,6],[116,1891,7],[121,2005,14],[124,2095,8]],[[94,1581,7],[127,2230,7],[127,2231,7],[140,2429,7],[140,2432,7],[181,3440,7],[181,3441,7],[181,3442,7],[206,4255,4]],[[61,985,6],[92,1391,10],[92,1392,10],[92,1393,10],[121,1976,10],[121,1977,10],[125,2103,9],[125,2104,9],[125,2105,9],[125,2127,9],[125,2128,9],[125,2129,9],[125,2130,9],[125,2131,9],[125,2132,9],[125,2133,9],[129,2295,10],[131,2319,10],[131,2320,10],[161,2695,16]],[[154,2610,2],[184,3019,15]],[[63,981,6],[63,982,6],[63,983,6],[70,1084,2],[93,1419,2],[96,1479,2],[100,1537,2],[102,1591,2],[102,1593,2],[102,1594,2],[102,1596,2],[102,1599,2],[122,1919,21],[122,1920,21],[148,2418,21],[157,2588,2],[160,2634,21],[160,2637,21],[160,2644,21],[164,2724,21],[164,2731,21],[164,2734,16],[164,2735,16],[164,2736,16],[164,2737,16],[164,2738,16],[164,2739,16],[164,2740,16],[164,2744,21],[171,2841,21],[171,2846,21]],[[63,1209,6],[63,1210,6],[63,1216,6],[63,1217,6],[63,1218,6],[63,1219,6],[71,1340,5],[91,1610,10],[91,1611,10],[91,1612,10],[91,1644,11],[91,1645,11],[91,1646,11],[91,1647,11],[92,1742,5],[92,1744,5],[92,1747,5],[92,1749,5],[92,1751,5],[97,2072,6],[126,2692,10],[134,2777,10]],[[61,949,6],[92,1521,7],[92,1522,7],[96,1597,5],[96,1599,5],[96,1606,5],[96,1612,5],[125,2197,10],[125,2198,10],[125,2204,10]],[[61,878,6],[103,1981,2],[104,1991,2],[105,2008,2],[106,2016,2],[107,2024,2],[108,2034,2],[108,2039,2],[109,2049,2],[109,2051,2],[111,2067,2],[111,2069,2],[111,2071,2],[111,2073,2],[111,2075,2],[112,2087,2],[121,2396,14],[121,2397,14],[121,2398,14],[121,2399,14],[121,2400,14],[121,2401,14],[121,2402,14],[164,3038,2],[180,3272,16],[180,3273,16],[180,3274,16],[180,3279,16],[180,3283,16],[180,3284,16],[184,3388,3],[208,3708,7],[208,3709,7],[208,3710,7],[209,3727,11],[209,3729,11],[209,3730,11]],[[64,966,6],[112,1621,10],[112,1622,10],[118,1689,2],[122,1783,7],[139,2002,8],[139,2003,8],[151,2180,2],[152,2198,2],[153,2273,2]],[[61,930,6],[61,931,6],[71,1081,5],[72,1090,5],[92,1376,10],[92,1384,12],[93,1401,12],[93,1402,11],[93,1405,12],[93,1407,12],[93,1409,12],[94,1418,12],[96,1439,12],[97,1460,12],[97,1464,12],[98,1474,12],[99,1486,12],[102,1524,12],[103,1537,5],[103,1539,5],[103,1542,12],[104,1548,5],[104,1551,12],[105,1556,5],[106,1564,5],[106,1569,12],[107,1581,5],[107,1583,5],[121,1794,6],[121,1796,6],[121,1800,6],[121,1801,6],[121,1805,10],[123,1848,10],[123,1851,10],[123,1862,10],[125,1978,10],[126,1991,10],[127,2003,10],[127,2004,10],[127,2005,10],[128,2019,10],[129,2029,10],[132,2075,6],[139,2198,6],[148,2305,6],[152,2352,6],[156,2423,11],[156,2424,11],[156,2425,11],[156,2426,11],[156,2427,11],[156,2428,11],[156,2429,11]]]"
   ]
  },
  {
   "cell_type": "code",
   "execution_count": 14,
   "id": "7c9e0241",
   "metadata": {},
   "outputs": [],
   "source": [
    "arr = np.array([x[0]for x in sum(data, [])])\n",
    "x, y = np.unique(arr, return_counts = True)\n"
   ]
  },
  {
   "cell_type": "code",
   "execution_count": 16,
   "id": "d008b24c",
   "metadata": {},
   "outputs": [
    {
     "data": {
      "text/plain": [
       "<BarContainer object of 67 artists>"
      ]
     },
     "execution_count": 16,
     "metadata": {},
     "output_type": "execute_result"
    },
    {
     "data": {
      "image/png": "[encoded data removed]",
      "text/plain": [
       "<Figure size 432x288 with 1 Axes>"
      ]
     },
     "metadata": {
      "needs_background": "light"
     },
     "output_type": "display_data"
    }
   ],
   "source": [
    "plt.bar(x, y, label = \"forget x\")"
   ]
  },
  {
   "cell_type": "code",
   "execution_count": null,
   "id": "cb4b3ba9",
   "metadata": {},
   "outputs": [],
   "source": []
  }
 ],
 "metadata": {
  "kernelspec": {
   "display_name": "Python 3 (ipykernel)",
   "language": "python",
   "name": "python3"
  },
  "language_info": {
   "codemirror_mode": {
    "name": "ipython",
    "version": 3
   },
   "file_extension": ".py",
   "mimetype": "text/x-python",
   "name": "python",
   "nbconvert_exporter": "python",
   "pygments_lexer": "ipython3",
   "version": "3.9.12"
  }
 },
 "nbformat": 4,
 "nbformat_minor": 5
}
